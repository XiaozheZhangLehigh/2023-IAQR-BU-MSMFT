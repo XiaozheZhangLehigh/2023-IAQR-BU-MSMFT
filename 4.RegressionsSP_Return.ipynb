{
 "cells": [
  {
   "cell_type": "code",
   "execution_count": 12,
   "metadata": {},
   "outputs": [],
   "source": [
    "import pandas as pd\n",
    "import numpy as np\n",
    "import matplotlib.pyplot as plt\n",
    "import seaborn as sns\n",
    "import matplotlib.dates as mdates\n",
    "import pandas_datareader.data as web\n",
    "from datetime import datetime, timedelta\n",
    "import scipy.stats as stats\n",
    "from sklearn.metrics import brier_score_loss, roc_curve, auc, log_loss\n",
    "from sklearn.preprocessing import StandardScaler"
   ]
  },
  {
   "cell_type": "markdown",
   "metadata": {},
   "source": [
    "| market_category | feature_name | id |\n",
    "|-----------------|--------------|----|\n",
    "| Bank            | bac          |  1 |\n",
    "| Bank            | citi         |  2 |\n",
    "| Commodity       | corn         |  3 |\n",
    "| Currency        | euro         |  4 |\n",
    "| Commodity       | gold         |  5 |\n",
    "| Inflation       | infl5y       |  6 |\n",
    "| Commodity       | iyr          |  7 |\n",
    "| Currency        | pound        |  8 |\n",
    "| Commodity       | silver       |  9 |\n",
    "| Commodity       | soybns       | 10 |\n",
    "| Equity          | sp12m        | 11 |\n",
    "| Equity          | sp6m         | 12 |\n",
    "| Commodity       | wheat        | 13 |\n",
    "| Currency        | yen          | 14 |\n"
   ]
  },
  {
   "cell_type": "markdown",
   "metadata": {},
   "source": [
    "Return Model (Log Price)"
   ]
  },
  {
   "cell_type": "code",
   "execution_count": 13,
   "metadata": {},
   "outputs": [],
   "source": [
    "df = pd.read_csv(\"mpd_sp500.csv\")\n",
    "df['Date'] = pd.to_datetime(df['Date'])\n",
    "df = df.set_index('Date')"
   ]
  },
  {
   "cell_type": "code",
   "execution_count": 14,
   "metadata": {},
   "outputs": [],
   "source": [
    "# forwards filling\n",
    "df = df.fillna(method='ffill')"
   ]
  },
  {
   "cell_type": "code",
   "execution_count": 15,
   "metadata": {},
   "outputs": [
    {
     "data": {
      "text/html": [
       "<div>\n",
       "<style scoped>\n",
       "    .dataframe tbody tr th:only-of-type {\n",
       "        vertical-align: middle;\n",
       "    }\n",
       "\n",
       "    .dataframe tbody tr th {\n",
       "        vertical-align: top;\n",
       "    }\n",
       "\n",
       "    .dataframe thead th {\n",
       "        text-align: right;\n",
       "    }\n",
       "</style>\n",
       "<table border=\"1\" class=\"dataframe\">\n",
       "  <thead>\n",
       "    <tr style=\"text-align: right;\">\n",
       "      <th></th>\n",
       "      <th>SP_adj_close</th>\n",
       "      <th>SP_lg_pr</th>\n",
       "      <th>SP_lg_ret(%)</th>\n",
       "      <th>VIX</th>\n",
       "    </tr>\n",
       "    <tr>\n",
       "      <th>Date</th>\n",
       "      <th></th>\n",
       "      <th></th>\n",
       "      <th></th>\n",
       "      <th></th>\n",
       "    </tr>\n",
       "  </thead>\n",
       "  <tbody>\n",
       "    <tr>\n",
       "      <th>2013-01-17</th>\n",
       "      <td>1480.939941</td>\n",
       "      <td>7.300432</td>\n",
       "      <td>0.597345</td>\n",
       "      <td>0.1357</td>\n",
       "    </tr>\n",
       "    <tr>\n",
       "      <th>2013-01-24</th>\n",
       "      <td>1494.819946</td>\n",
       "      <td>7.309761</td>\n",
       "      <td>0.932878</td>\n",
       "      <td>0.1269</td>\n",
       "    </tr>\n",
       "    <tr>\n",
       "      <th>2013-01-31</th>\n",
       "      <td>1498.109985</td>\n",
       "      <td>7.311960</td>\n",
       "      <td>0.219854</td>\n",
       "      <td>0.1428</td>\n",
       "    </tr>\n",
       "    <tr>\n",
       "      <th>2013-02-07</th>\n",
       "      <td>1509.390015</td>\n",
       "      <td>7.319461</td>\n",
       "      <td>0.750130</td>\n",
       "      <td>0.1350</td>\n",
       "    </tr>\n",
       "    <tr>\n",
       "      <th>2013-02-14</th>\n",
       "      <td>1521.380005</td>\n",
       "      <td>7.327373</td>\n",
       "      <td>0.791222</td>\n",
       "      <td>0.1266</td>\n",
       "    </tr>\n",
       "    <tr>\n",
       "      <th>...</th>\n",
       "      <td>...</td>\n",
       "      <td>...</td>\n",
       "      <td>...</td>\n",
       "      <td>...</td>\n",
       "    </tr>\n",
       "    <tr>\n",
       "      <th>2024-01-10</th>\n",
       "      <td>4783.450195</td>\n",
       "      <td>8.472917</td>\n",
       "      <td>1.657668</td>\n",
       "      <td>0.1269</td>\n",
       "    </tr>\n",
       "    <tr>\n",
       "      <th>2024-01-17</th>\n",
       "      <td>4739.209961</td>\n",
       "      <td>8.463626</td>\n",
       "      <td>-0.929164</td>\n",
       "      <td>0.1479</td>\n",
       "    </tr>\n",
       "    <tr>\n",
       "      <th>2024-01-24</th>\n",
       "      <td>4868.549805</td>\n",
       "      <td>8.490551</td>\n",
       "      <td>2.692566</td>\n",
       "      <td>0.1314</td>\n",
       "    </tr>\n",
       "    <tr>\n",
       "      <th>2024-01-31</th>\n",
       "      <td>4845.649902</td>\n",
       "      <td>8.485837</td>\n",
       "      <td>-0.471474</td>\n",
       "      <td>0.1435</td>\n",
       "    </tr>\n",
       "    <tr>\n",
       "      <th>2024-02-07</th>\n",
       "      <td>4995.060059</td>\n",
       "      <td>8.516205</td>\n",
       "      <td>3.036806</td>\n",
       "      <td>0.1283</td>\n",
       "    </tr>\n",
       "  </tbody>\n",
       "</table>\n",
       "<p>577 rows × 4 columns</p>\n",
       "</div>"
      ],
      "text/plain": [
       "            SP_adj_close  SP_lg_pr  SP_lg_ret(%)     VIX\n",
       "Date                                                    \n",
       "2013-01-17   1480.939941  7.300432      0.597345  0.1357\n",
       "2013-01-24   1494.819946  7.309761      0.932878  0.1269\n",
       "2013-01-31   1498.109985  7.311960      0.219854  0.1428\n",
       "2013-02-07   1509.390015  7.319461      0.750130  0.1350\n",
       "2013-02-14   1521.380005  7.327373      0.791222  0.1266\n",
       "...                  ...       ...           ...     ...\n",
       "2024-01-10   4783.450195  8.472917      1.657668  0.1269\n",
       "2024-01-17   4739.209961  8.463626     -0.929164  0.1479\n",
       "2024-01-24   4868.549805  8.490551      2.692566  0.1314\n",
       "2024-01-31   4845.649902  8.485837     -0.471474  0.1435\n",
       "2024-02-07   4995.060059  8.516205      3.036806  0.1283\n",
       "\n",
       "[577 rows x 4 columns]"
      ]
     },
     "execution_count": 15,
     "metadata": {},
     "output_type": "execute_result"
    }
   ],
   "source": [
    "# create a new df that extract the columns of SP_adj_close\tSP_lg_pr\tSP_lg_ret(%)\tVIX\n",
    "data = df[['SP_adj_close', 'SP_lg_pr', 'SP_lg_ret(%)', 'VIX']]\n",
    "data"
   ]
  },
  {
   "cell_type": "code",
   "execution_count": 16,
   "metadata": {},
   "outputs": [],
   "source": [
    "# keep columns that have names containing f11 and f12 only\n",
    "df = df.filter(regex='f11|f12')\n"
   ]
  },
  {
   "cell_type": "code",
   "execution_count": 17,
   "metadata": {},
   "outputs": [],
   "source": [
    "# merge data to df merge on index\n",
    "df = pd.merge(df, data, left_index=True, right_index=True, how='left')"
   ]
  },
  {
   "cell_type": "code",
   "execution_count": 18,
   "metadata": {},
   "outputs": [],
   "source": [
    "# drop columns that has \"maturity_target\" , \"lg_change_decr\", and \"lg_change_incr\" in the column name; those are irrelevant for feature selection\n",
    "df = df[df.columns.drop(list(df.filter(regex='maturity_target')))]\n",
    "df = df[df.columns.drop(list(df.filter(regex='lg_change_decr')))]\n",
    "df = df[df.columns.drop(list(df.filter(regex='lg_change_incr')))]\n",
    "df = df[df.columns.drop(list(df.filter(regex='SP_adj_close')))]\n",
    "\n",
    "# drop SP_lg_ret(%)\t\n",
    "df = df.drop(['SP_lg_ret(%)'], axis=1)\n",
    "# df = df.drop(['SP_lg_pr'], axis=1)\n",
    "df = df.drop(['VIX'], axis=1)\n",
    "\n"
   ]
  },
  {
   "cell_type": "code",
   "execution_count": 19,
   "metadata": {},
   "outputs": [
    {
     "name": "stderr",
     "output_type": "stream",
     "text": [
      "/var/folders/57/dq27lfpd1zb7kzzggckgkm2h0000gn/T/ipykernel_6720/2483780013.py:8: PerformanceWarning: DataFrame is highly fragmented.  This is usually the result of calling `frame.insert` many times, which has poor performance.  Consider joining all columns at once using pd.concat(axis=1) instead. To get a de-fragmented frame, use `newframe = frame.copy()`\n",
      "  df[f'{col}_lag{lag}'] = df[col].shift(lag)\n",
      "/var/folders/57/dq27lfpd1zb7kzzggckgkm2h0000gn/T/ipykernel_6720/2483780013.py:8: PerformanceWarning: DataFrame is highly fragmented.  This is usually the result of calling `frame.insert` many times, which has poor performance.  Consider joining all columns at once using pd.concat(axis=1) instead. To get a de-fragmented frame, use `newframe = frame.copy()`\n",
      "  df[f'{col}_lag{lag}'] = df[col].shift(lag)\n",
      "/var/folders/57/dq27lfpd1zb7kzzggckgkm2h0000gn/T/ipykernel_6720/2483780013.py:8: PerformanceWarning: DataFrame is highly fragmented.  This is usually the result of calling `frame.insert` many times, which has poor performance.  Consider joining all columns at once using pd.concat(axis=1) instead. To get a de-fragmented frame, use `newframe = frame.copy()`\n",
      "  df[f'{col}_lag{lag}'] = df[col].shift(lag)\n",
      "/var/folders/57/dq27lfpd1zb7kzzggckgkm2h0000gn/T/ipykernel_6720/2483780013.py:8: PerformanceWarning: DataFrame is highly fragmented.  This is usually the result of calling `frame.insert` many times, which has poor performance.  Consider joining all columns at once using pd.concat(axis=1) instead. To get a de-fragmented frame, use `newframe = frame.copy()`\n",
      "  df[f'{col}_lag{lag}'] = df[col].shift(lag)\n",
      "/var/folders/57/dq27lfpd1zb7kzzggckgkm2h0000gn/T/ipykernel_6720/2483780013.py:8: PerformanceWarning: DataFrame is highly fragmented.  This is usually the result of calling `frame.insert` many times, which has poor performance.  Consider joining all columns at once using pd.concat(axis=1) instead. To get a de-fragmented frame, use `newframe = frame.copy()`\n",
      "  df[f'{col}_lag{lag}'] = df[col].shift(lag)\n",
      "/var/folders/57/dq27lfpd1zb7kzzggckgkm2h0000gn/T/ipykernel_6720/2483780013.py:8: PerformanceWarning: DataFrame is highly fragmented.  This is usually the result of calling `frame.insert` many times, which has poor performance.  Consider joining all columns at once using pd.concat(axis=1) instead. To get a de-fragmented frame, use `newframe = frame.copy()`\n",
      "  df[f'{col}_lag{lag}'] = df[col].shift(lag)\n",
      "/var/folders/57/dq27lfpd1zb7kzzggckgkm2h0000gn/T/ipykernel_6720/2483780013.py:8: PerformanceWarning: DataFrame is highly fragmented.  This is usually the result of calling `frame.insert` many times, which has poor performance.  Consider joining all columns at once using pd.concat(axis=1) instead. To get a de-fragmented frame, use `newframe = frame.copy()`\n",
      "  df[f'{col}_lag{lag}'] = df[col].shift(lag)\n",
      "/var/folders/57/dq27lfpd1zb7kzzggckgkm2h0000gn/T/ipykernel_6720/2483780013.py:8: PerformanceWarning: DataFrame is highly fragmented.  This is usually the result of calling `frame.insert` many times, which has poor performance.  Consider joining all columns at once using pd.concat(axis=1) instead. To get a de-fragmented frame, use `newframe = frame.copy()`\n",
      "  df[f'{col}_lag{lag}'] = df[col].shift(lag)\n",
      "/var/folders/57/dq27lfpd1zb7kzzggckgkm2h0000gn/T/ipykernel_6720/2483780013.py:8: PerformanceWarning: DataFrame is highly fragmented.  This is usually the result of calling `frame.insert` many times, which has poor performance.  Consider joining all columns at once using pd.concat(axis=1) instead. To get a de-fragmented frame, use `newframe = frame.copy()`\n",
      "  df[f'{col}_lag{lag}'] = df[col].shift(lag)\n",
      "/var/folders/57/dq27lfpd1zb7kzzggckgkm2h0000gn/T/ipykernel_6720/2483780013.py:8: PerformanceWarning: DataFrame is highly fragmented.  This is usually the result of calling `frame.insert` many times, which has poor performance.  Consider joining all columns at once using pd.concat(axis=1) instead. To get a de-fragmented frame, use `newframe = frame.copy()`\n",
      "  df[f'{col}_lag{lag}'] = df[col].shift(lag)\n",
      "/var/folders/57/dq27lfpd1zb7kzzggckgkm2h0000gn/T/ipykernel_6720/2483780013.py:8: PerformanceWarning: DataFrame is highly fragmented.  This is usually the result of calling `frame.insert` many times, which has poor performance.  Consider joining all columns at once using pd.concat(axis=1) instead. To get a de-fragmented frame, use `newframe = frame.copy()`\n",
      "  df[f'{col}_lag{lag}'] = df[col].shift(lag)\n",
      "/var/folders/57/dq27lfpd1zb7kzzggckgkm2h0000gn/T/ipykernel_6720/2483780013.py:8: PerformanceWarning: DataFrame is highly fragmented.  This is usually the result of calling `frame.insert` many times, which has poor performance.  Consider joining all columns at once using pd.concat(axis=1) instead. To get a de-fragmented frame, use `newframe = frame.copy()`\n",
      "  df[f'{col}_lag{lag}'] = df[col].shift(lag)\n",
      "/var/folders/57/dq27lfpd1zb7kzzggckgkm2h0000gn/T/ipykernel_6720/2483780013.py:8: PerformanceWarning: DataFrame is highly fragmented.  This is usually the result of calling `frame.insert` many times, which has poor performance.  Consider joining all columns at once using pd.concat(axis=1) instead. To get a de-fragmented frame, use `newframe = frame.copy()`\n",
      "  df[f'{col}_lag{lag}'] = df[col].shift(lag)\n",
      "/var/folders/57/dq27lfpd1zb7kzzggckgkm2h0000gn/T/ipykernel_6720/2483780013.py:8: PerformanceWarning: DataFrame is highly fragmented.  This is usually the result of calling `frame.insert` many times, which has poor performance.  Consider joining all columns at once using pd.concat(axis=1) instead. To get a de-fragmented frame, use `newframe = frame.copy()`\n",
      "  df[f'{col}_lag{lag}'] = df[col].shift(lag)\n",
      "/var/folders/57/dq27lfpd1zb7kzzggckgkm2h0000gn/T/ipykernel_6720/2483780013.py:8: PerformanceWarning: DataFrame is highly fragmented.  This is usually the result of calling `frame.insert` many times, which has poor performance.  Consider joining all columns at once using pd.concat(axis=1) instead. To get a de-fragmented frame, use `newframe = frame.copy()`\n",
      "  df[f'{col}_lag{lag}'] = df[col].shift(lag)\n"
     ]
    }
   ],
   "source": [
    "# Generate lagged variables from f1_mu to SP_lg_pr\n",
    "lags = 6\n",
    "for lag in range(1, lags+1):\n",
    "    # for col in df.columns[df.columns.get_loc('f1_mu'):df.columns.get_loc('SP_lg_ret_vol')+1]:\n",
    "    # for col in df.columns[df.columns.get_loc('f1_mu'):df.columns.get_loc('VIX')+1]: \n",
    "    for col in df.columns[df.columns.get_loc('f11_mu'):df.columns.get_loc('SP_lg_pr')+1]: \n",
    "    #for col in df.columns[df.columns.get_loc('f11_mu'):df.columns.get_loc('SP_lg_ret(%)')+1]:    \n",
    "        df[f'{col}_lag{lag}'] = df[col].shift(lag)"
   ]
  },
  {
   "cell_type": "code",
   "execution_count": 20,
   "metadata": {},
   "outputs": [
    {
     "data": {
      "text/plain": [
       "(571, 133)"
      ]
     },
     "execution_count": 20,
     "metadata": {},
     "output_type": "execute_result"
    }
   ],
   "source": [
    "df_lagged = df.copy()\n",
    "# drop NA rows\n",
    "df_lagged = df_lagged.dropna()\n",
    "df_lagged.shape\n"
   ]
  },
  {
   "cell_type": "code",
   "execution_count": 21,
   "metadata": {},
   "outputs": [],
   "source": [
    "# df_lagged.to_csv('mpd_sp500_lagged_log_price.csv', index=False)"
   ]
  },
  {
   "cell_type": "code",
   "execution_count": 22,
   "metadata": {},
   "outputs": [],
   "source": [
    "# Define the target variable\n",
    "start_colunm = df_lagged.columns.get_loc('f11_mu_lag1')\n",
    "# end_column = df_lagged.columns.get_loc('VIX_lag6')\n",
    "end_column = df_lagged.columns.get_loc('SP_lg_pr_lag6')\n",
    "#end_column = df_lagged.columns.get_loc('SP_lg_ret(%)_lag6')\n",
    "\n",
    "column_index = list(range(start_colunm, end_column+1))\n",
    "\n",
    "X = df_lagged.iloc[:, column_index]\n",
    "# y = df_lagged['SP_lg_ret(%)'] \n",
    "y = df_lagged['SP_lg_pr'] \n",
    "\n",
    "split_index = int(len(X)*0.75)\n",
    "X_train = X[:split_index]\n",
    "X_test = X[split_index:]\n",
    "y_train = y[:split_index]\n",
    "y_test = y[split_index:]"
   ]
  },
  {
   "cell_type": "code",
   "execution_count": 23,
   "metadata": {},
   "outputs": [
    {
     "data": {
      "text/plain": [
       "((428, 114), (143, 114), (428,), (143,))"
      ]
     },
     "execution_count": 23,
     "metadata": {},
     "output_type": "execute_result"
    }
   ],
   "source": [
    "X_train.shape, X_test.shape, y_train.shape, y_test.shape"
   ]
  },
  {
   "cell_type": "code",
   "execution_count": 24,
   "metadata": {},
   "outputs": [
    {
     "data": {
      "text/html": [
       "<style>#sk-container-id-1 {color: black;}#sk-container-id-1 pre{padding: 0;}#sk-container-id-1 div.sk-toggleable {background-color: white;}#sk-container-id-1 label.sk-toggleable__label {cursor: pointer;display: block;width: 100%;margin-bottom: 0;padding: 0.3em;box-sizing: border-box;text-align: center;}#sk-container-id-1 label.sk-toggleable__label-arrow:before {content: \"▸\";float: left;margin-right: 0.25em;color: #696969;}#sk-container-id-1 label.sk-toggleable__label-arrow:hover:before {color: black;}#sk-container-id-1 div.sk-estimator:hover label.sk-toggleable__label-arrow:before {color: black;}#sk-container-id-1 div.sk-toggleable__content {max-height: 0;max-width: 0;overflow: hidden;text-align: left;background-color: #f0f8ff;}#sk-container-id-1 div.sk-toggleable__content pre {margin: 0.2em;color: black;border-radius: 0.25em;background-color: #f0f8ff;}#sk-container-id-1 input.sk-toggleable__control:checked~div.sk-toggleable__content {max-height: 200px;max-width: 100%;overflow: auto;}#sk-container-id-1 input.sk-toggleable__control:checked~label.sk-toggleable__label-arrow:before {content: \"▾\";}#sk-container-id-1 div.sk-estimator input.sk-toggleable__control:checked~label.sk-toggleable__label {background-color: #d4ebff;}#sk-container-id-1 div.sk-label input.sk-toggleable__control:checked~label.sk-toggleable__label {background-color: #d4ebff;}#sk-container-id-1 input.sk-hidden--visually {border: 0;clip: rect(1px 1px 1px 1px);clip: rect(1px, 1px, 1px, 1px);height: 1px;margin: -1px;overflow: hidden;padding: 0;position: absolute;width: 1px;}#sk-container-id-1 div.sk-estimator {font-family: monospace;background-color: #f0f8ff;border: 1px dotted black;border-radius: 0.25em;box-sizing: border-box;margin-bottom: 0.5em;}#sk-container-id-1 div.sk-estimator:hover {background-color: #d4ebff;}#sk-container-id-1 div.sk-parallel-item::after {content: \"\";width: 100%;border-bottom: 1px solid gray;flex-grow: 1;}#sk-container-id-1 div.sk-label:hover label.sk-toggleable__label {background-color: #d4ebff;}#sk-container-id-1 div.sk-serial::before {content: \"\";position: absolute;border-left: 1px solid gray;box-sizing: border-box;top: 0;bottom: 0;left: 50%;z-index: 0;}#sk-container-id-1 div.sk-serial {display: flex;flex-direction: column;align-items: center;background-color: white;padding-right: 0.2em;padding-left: 0.2em;position: relative;}#sk-container-id-1 div.sk-item {position: relative;z-index: 1;}#sk-container-id-1 div.sk-parallel {display: flex;align-items: stretch;justify-content: center;background-color: white;position: relative;}#sk-container-id-1 div.sk-item::before, #sk-container-id-1 div.sk-parallel-item::before {content: \"\";position: absolute;border-left: 1px solid gray;box-sizing: border-box;top: 0;bottom: 0;left: 50%;z-index: -1;}#sk-container-id-1 div.sk-parallel-item {display: flex;flex-direction: column;z-index: 1;position: relative;background-color: white;}#sk-container-id-1 div.sk-parallel-item:first-child::after {align-self: flex-end;width: 50%;}#sk-container-id-1 div.sk-parallel-item:last-child::after {align-self: flex-start;width: 50%;}#sk-container-id-1 div.sk-parallel-item:only-child::after {width: 0;}#sk-container-id-1 div.sk-dashed-wrapped {border: 1px dashed gray;margin: 0 0.4em 0.5em 0.4em;box-sizing: border-box;padding-bottom: 0.4em;background-color: white;}#sk-container-id-1 div.sk-label label {font-family: monospace;font-weight: bold;display: inline-block;line-height: 1.2em;}#sk-container-id-1 div.sk-label-container {text-align: center;}#sk-container-id-1 div.sk-container {/* jupyter's `normalize.less` sets `[hidden] { display: none; }` but bootstrap.min.css set `[hidden] { display: none !important; }` so we also need the `!important` here to be able to override the default hidden behavior on the sphinx rendered scikit-learn.org. See: https://github.com/scikit-learn/scikit-learn/issues/21755 */display: inline-block !important;position: relative;}#sk-container-id-1 div.sk-text-repr-fallback {display: none;}</style><div id=\"sk-container-id-1\" class=\"sk-top-container\"><div class=\"sk-text-repr-fallback\"><pre>LassoCV(cv=10, max_iter=10000, random_state=12345, selection=&#x27;random&#x27;)</pre><b>In a Jupyter environment, please rerun this cell to show the HTML representation or trust the notebook. <br />On GitHub, the HTML representation is unable to render, please try loading this page with nbviewer.org.</b></div><div class=\"sk-container\" hidden><div class=\"sk-item\"><div class=\"sk-estimator sk-toggleable\"><input class=\"sk-toggleable__control sk-hidden--visually\" id=\"sk-estimator-id-1\" type=\"checkbox\" checked><label for=\"sk-estimator-id-1\" class=\"sk-toggleable__label sk-toggleable__label-arrow\">LassoCV</label><div class=\"sk-toggleable__content\"><pre>LassoCV(cv=10, max_iter=10000, random_state=12345, selection=&#x27;random&#x27;)</pre></div></div></div></div></div>"
      ],
      "text/plain": [
       "LassoCV(cv=10, max_iter=10000, random_state=12345, selection='random')"
      ]
     },
     "execution_count": 24,
     "metadata": {},
     "output_type": "execute_result"
    }
   ],
   "source": [
    "# run a lasso regression to select features\n",
    "from sklearn.linear_model import LassoCV\n",
    "\n",
    "lassoCV = LassoCV(cv=10, random_state=12345, max_iter=10000, tol=0.0001, selection='random')\n",
    "lassoCV.fit(X_train, y_train)"
   ]
  },
  {
   "cell_type": "code",
   "execution_count": 25,
   "metadata": {},
   "outputs": [
    {
     "name": "stdout",
     "output_type": "stream",
     "text": [
      "In Sample R^2:  0.99314\n",
      "\n",
      "Out of Sample R^2:  0.87785\n",
      "\n",
      "Number of features selected:  12\n",
      "                   coef\n",
      "f11_kurt_lag1 -0.005614\n",
      "f12_kurt_lag1  0.007945\n",
      "SP_lg_pr_lag1  0.959054\n",
      "f11_kurt_lag2  0.001958\n",
      "SP_lg_pr_lag2  0.002003\n",
      "f11_p10_lag4  -0.035641\n",
      "f12_kurt_lag4 -0.005773\n",
      "f11_kurt_lag5  0.007417\n",
      "f12_kurt_lag5 -0.002573\n",
      "f11_kurt_lag6 -0.004551\n",
      "f12_kurt_lag6 -0.000052\n",
      "SP_lg_pr_lag6  0.033627\n",
      "\n",
      "Out of Sample Test set evaluation:\n",
      "MSE: 0.00060, RMSE: 0.02458, MAE: 0.01869, MAPE: 0.22389\n"
     ]
    }
   ],
   "source": [
    "print(\"In Sample R^2: \", f'{lassoCV.score(X_train, y_train):.5f}')\n",
    "print()\n",
    "print(\"Out of Sample R^2: \", f'{lassoCV.score(X_test, y_test):.5f}')\n",
    "print()\n",
    "# lasso coefficients with corresponding feature names\n",
    "lasso_coef = pd.DataFrame(lassoCV.coef_, index=X.columns, columns=['coef'])\n",
    "lasso_coef = lasso_coef[lasso_coef.coef != 0]\n",
    "\n",
    "print(\"Number of features selected: \", len(lasso_coef))\n",
    "print(lasso_coef)\n",
    "\n",
    "print()\n",
    "# show the predicted value\n",
    "lass_y_pred = lassoCV.predict(X_test)\n",
    "# calculate the MSE, RMSE, and MAE\n",
    "from sklearn.metrics import mean_squared_error, mean_absolute_error\n",
    "lass_mse = mean_squared_error(y_test, lass_y_pred)\n",
    "lass_rmse = np.sqrt(lass_mse)\n",
    "lass_mae = mean_absolute_error(y_test, lass_y_pred)\n",
    "lass_mape = np.mean(np.abs((y_test - lass_y_pred) / y_test)) * 100\n",
    "\n",
    "print('Out of Sample Test set evaluation:')\n",
    "print(f'MSE: {lass_mse:.5f}, RMSE: {lass_rmse:.5f}, MAE: {lass_mae:.5f}, MAPE: {lass_mape:.5f}')\n"
   ]
  },
  {
   "cell_type": "markdown",
   "metadata": {},
   "source": [
    "Applied StandardScaler"
   ]
  },
  {
   "cell_type": "code",
   "execution_count": 26,
   "metadata": {},
   "outputs": [],
   "source": [
    "# run a lasso regression to select features\n",
    "from sklearn.linear_model import LassoCV\n",
    "from sklearn.preprocessing import StandardScaler\n",
    "\n",
    "scaler = StandardScaler()\n",
    "scaler.fit(X_train)\n",
    "X_train_scaled = scaler.transform(X_train)\n",
    "X_test_scaled = scaler.transform(X_test)"
   ]
  },
  {
   "cell_type": "code",
   "execution_count": 27,
   "metadata": {},
   "outputs": [
    {
     "data": {
      "text/html": [
       "<style>#sk-container-id-2 {color: black;}#sk-container-id-2 pre{padding: 0;}#sk-container-id-2 div.sk-toggleable {background-color: white;}#sk-container-id-2 label.sk-toggleable__label {cursor: pointer;display: block;width: 100%;margin-bottom: 0;padding: 0.3em;box-sizing: border-box;text-align: center;}#sk-container-id-2 label.sk-toggleable__label-arrow:before {content: \"▸\";float: left;margin-right: 0.25em;color: #696969;}#sk-container-id-2 label.sk-toggleable__label-arrow:hover:before {color: black;}#sk-container-id-2 div.sk-estimator:hover label.sk-toggleable__label-arrow:before {color: black;}#sk-container-id-2 div.sk-toggleable__content {max-height: 0;max-width: 0;overflow: hidden;text-align: left;background-color: #f0f8ff;}#sk-container-id-2 div.sk-toggleable__content pre {margin: 0.2em;color: black;border-radius: 0.25em;background-color: #f0f8ff;}#sk-container-id-2 input.sk-toggleable__control:checked~div.sk-toggleable__content {max-height: 200px;max-width: 100%;overflow: auto;}#sk-container-id-2 input.sk-toggleable__control:checked~label.sk-toggleable__label-arrow:before {content: \"▾\";}#sk-container-id-2 div.sk-estimator input.sk-toggleable__control:checked~label.sk-toggleable__label {background-color: #d4ebff;}#sk-container-id-2 div.sk-label input.sk-toggleable__control:checked~label.sk-toggleable__label {background-color: #d4ebff;}#sk-container-id-2 input.sk-hidden--visually {border: 0;clip: rect(1px 1px 1px 1px);clip: rect(1px, 1px, 1px, 1px);height: 1px;margin: -1px;overflow: hidden;padding: 0;position: absolute;width: 1px;}#sk-container-id-2 div.sk-estimator {font-family: monospace;background-color: #f0f8ff;border: 1px dotted black;border-radius: 0.25em;box-sizing: border-box;margin-bottom: 0.5em;}#sk-container-id-2 div.sk-estimator:hover {background-color: #d4ebff;}#sk-container-id-2 div.sk-parallel-item::after {content: \"\";width: 100%;border-bottom: 1px solid gray;flex-grow: 1;}#sk-container-id-2 div.sk-label:hover label.sk-toggleable__label {background-color: #d4ebff;}#sk-container-id-2 div.sk-serial::before {content: \"\";position: absolute;border-left: 1px solid gray;box-sizing: border-box;top: 0;bottom: 0;left: 50%;z-index: 0;}#sk-container-id-2 div.sk-serial {display: flex;flex-direction: column;align-items: center;background-color: white;padding-right: 0.2em;padding-left: 0.2em;position: relative;}#sk-container-id-2 div.sk-item {position: relative;z-index: 1;}#sk-container-id-2 div.sk-parallel {display: flex;align-items: stretch;justify-content: center;background-color: white;position: relative;}#sk-container-id-2 div.sk-item::before, #sk-container-id-2 div.sk-parallel-item::before {content: \"\";position: absolute;border-left: 1px solid gray;box-sizing: border-box;top: 0;bottom: 0;left: 50%;z-index: -1;}#sk-container-id-2 div.sk-parallel-item {display: flex;flex-direction: column;z-index: 1;position: relative;background-color: white;}#sk-container-id-2 div.sk-parallel-item:first-child::after {align-self: flex-end;width: 50%;}#sk-container-id-2 div.sk-parallel-item:last-child::after {align-self: flex-start;width: 50%;}#sk-container-id-2 div.sk-parallel-item:only-child::after {width: 0;}#sk-container-id-2 div.sk-dashed-wrapped {border: 1px dashed gray;margin: 0 0.4em 0.5em 0.4em;box-sizing: border-box;padding-bottom: 0.4em;background-color: white;}#sk-container-id-2 div.sk-label label {font-family: monospace;font-weight: bold;display: inline-block;line-height: 1.2em;}#sk-container-id-2 div.sk-label-container {text-align: center;}#sk-container-id-2 div.sk-container {/* jupyter's `normalize.less` sets `[hidden] { display: none; }` but bootstrap.min.css set `[hidden] { display: none !important; }` so we also need the `!important` here to be able to override the default hidden behavior on the sphinx rendered scikit-learn.org. See: https://github.com/scikit-learn/scikit-learn/issues/21755 */display: inline-block !important;position: relative;}#sk-container-id-2 div.sk-text-repr-fallback {display: none;}</style><div id=\"sk-container-id-2\" class=\"sk-top-container\"><div class=\"sk-text-repr-fallback\"><pre>LassoCV(cv=10, max_iter=10000, random_state=12345, selection=&#x27;random&#x27;)</pre><b>In a Jupyter environment, please rerun this cell to show the HTML representation or trust the notebook. <br />On GitHub, the HTML representation is unable to render, please try loading this page with nbviewer.org.</b></div><div class=\"sk-container\" hidden><div class=\"sk-item\"><div class=\"sk-estimator sk-toggleable\"><input class=\"sk-toggleable__control sk-hidden--visually\" id=\"sk-estimator-id-2\" type=\"checkbox\" checked><label for=\"sk-estimator-id-2\" class=\"sk-toggleable__label sk-toggleable__label-arrow\">LassoCV</label><div class=\"sk-toggleable__content\"><pre>LassoCV(cv=10, max_iter=10000, random_state=12345, selection=&#x27;random&#x27;)</pre></div></div></div></div></div>"
      ],
      "text/plain": [
       "LassoCV(cv=10, max_iter=10000, random_state=12345, selection='random')"
      ]
     },
     "execution_count": 27,
     "metadata": {},
     "output_type": "execute_result"
    }
   ],
   "source": [
    "lassoCV2 = LassoCV(cv=10, random_state=12345, max_iter=10000, tol=0.0001, selection='random')\n",
    "lassoCV2.fit(X_train_scaled, y_train)"
   ]
  },
  {
   "cell_type": "code",
   "execution_count": 28,
   "metadata": {},
   "outputs": [
    {
     "name": "stdout",
     "output_type": "stream",
     "text": [
      "In Sample R^2:  0.99301\n",
      "\n",
      "Out of Sample R^2:  0.87591\n",
      "\n",
      "Number of features selected:  7\n",
      "                    coef\n",
      "f12_mu_lag1     0.000848\n",
      "SP_lg_pr_lag1   0.213467\n",
      "SP_lg_pr_lag2   0.017935\n",
      "f12_p50_lag3    0.000948\n",
      "f12_prInc_lag3  0.003012\n",
      "f11_prInc_lag4  0.000592\n",
      "f12_prInc_lag4  0.001080\n",
      "\n",
      "Test set evaluation:\n",
      "MSE: 0.00061, RMSE: 0.02478, MAE: 0.01900, MAPE: 0.22764\n"
     ]
    }
   ],
   "source": [
    "print(\"In Sample R^2: \", f'{lassoCV2.score(X_train_scaled, y_train):.5f}')\n",
    "print()\n",
    "print(\"Out of Sample R^2: \", f'{lassoCV2.score(X_test_scaled, y_test):.5f}')\n",
    "print()\n",
    "\n",
    "# lasso coefficients with corresponding feature names\n",
    "lasso_coef = pd.DataFrame(lassoCV2.coef_, index=X.columns, columns=['coef'])\n",
    "lasso_coef = lasso_coef[lasso_coef.coef != 0]\n",
    "\n",
    "print(\"Number of features selected: \", len(lasso_coef))\n",
    "print(lasso_coef)\n",
    "\n",
    "print()\n",
    "# show the predicted value\n",
    "lassCV2_y_pred = lassoCV2.predict(X_test_scaled)\n",
    "# calculate the MSE, RMSE, and MAE\n",
    "from sklearn.metrics import mean_squared_error, mean_absolute_error\n",
    "lass_mse = mean_squared_error(y_test, lassCV2_y_pred)\n",
    "lass_rmse = np.sqrt(lass_mse)\n",
    "lass_mae = mean_absolute_error(y_test, lassCV2_y_pred)\n",
    "lass_mape = np.mean(np.abs((y_test - lassCV2_y_pred) / y_test)) * 100\n",
    "\n",
    "print('Test set evaluation:')\n",
    "print(f'MSE: {lass_mse:.5f}, RMSE: {lass_rmse:.5f}, MAE: {lass_mae:.5f}, MAPE: {lass_mape:.5f}')\n"
   ]
  },
  {
   "cell_type": "markdown",
   "metadata": {},
   "source": [
    "Using Log Price Lasso Regression, unscalered has better result (LassoCV)"
   ]
  },
  {
   "cell_type": "code",
   "execution_count": 30,
   "metadata": {},
   "outputs": [],
   "source": [
    "# convert to dataframe\n",
    "lassCV2_y_pred_lp = pd.DataFrame(lassCV2_y_pred)\n",
    "# rename to Predicted_SP_lg_pr\n",
    "lassCV2_y_pred_lp.columns = ['Predicted_SP_lg_pr']\n",
    "lassCV2_y_pred_lp.to_csv('Predicted_SP_lg_pr.csv', index=False)"
   ]
  }
 ],
 "metadata": {
  "kernelspec": {
   "display_name": "Python 3",
   "language": "python",
   "name": "python3"
  },
  "language_info": {
   "codemirror_mode": {
    "name": "ipython",
    "version": 3
   },
   "file_extension": ".py",
   "mimetype": "text/x-python",
   "name": "python",
   "nbconvert_exporter": "python",
   "pygments_lexer": "ipython3",
   "version": "3.9.6"
  }
 },
 "nbformat": 4,
 "nbformat_minor": 2
}
